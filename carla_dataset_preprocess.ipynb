{
 "cells": [
  {
   "cell_type": "code",
   "execution_count": 6,
   "metadata": {},
   "outputs": [],
   "source": [
    "import numpy as np"
   ]
  },
  {
   "cell_type": "code",
   "execution_count": 7,
   "metadata": {},
   "outputs": [
    {
     "data": {
      "text/plain": [
       "(600, 800, 3)"
      ]
     },
     "execution_count": 7,
     "metadata": {},
     "output_type": "execute_result"
    }
   ],
   "source": [
    "# load picture as numpy array\n",
    "from PIL import Image\n",
    "img = Image.open(r'data\\Carla_semantic\\ori_label\\000000.png')\n",
    "img.load()\n",
    "data = np.asarray(img, dtype=\"int32\")\n",
    "data.shape"
   ]
  },
  {
   "cell_type": "code",
   "execution_count": null,
   "metadata": {},
   "outputs": [],
   "source": [
    "import os\n",
    "import glob\n",
    "import random\n",
    "\n",
    "\n",
    "def split_dataset(data_dir, label_dir, output_dir, train_ratio=0.7, val_ratio=0.3, test_ratio=0):\n",
    "    # 获取所有数据文件\n",
    "    data_files = glob.glob(os.path.join(data_dir, '*'))\n",
    "    data_files = [os.path.basename(f) for f in data_files]\n",
    "\n",
    "    # 打乱数据\n",
    "    random.shuffle(data_files)\n",
    "\n",
    "    # 计算每个集合的大小\n",
    "    total_files = len(data_files)\n",
    "    train_size = int(total_files * train_ratio)\n",
    "    val_size = int(total_files * val_ratio)\n",
    "    test_size = total_files - train_size - val_size\n",
    "\n",
    "    # 划分数据集\n",
    "    train_files = data_files[:train_size]\n",
    "    val_files = data_files[train_size:train_size + val_size]\n",
    "    test_files = data_files[train_size + val_size:]\n",
    "\n",
    "    # 写入txt文件\n",
    "    def write_to_file(file_list, filename):\n",
    "        with open(filename, 'w') as f:\n",
    "            for file in file_list:\n",
    "                f.write(f\"{file}\\n\")\n",
    "\n",
    "    os.makedirs(output_dir, exist_ok=True)\n",
    "    write_to_file(train_files, os.path.join(output_dir, 'train.txt'))\n",
    "    write_to_file(val_files, os.path.join(output_dir, 'val.txt'))\n",
    "    # write_to_file(test_files, os.path.join(output_dir, 'test.txt'))\n",
    "\n",
    "\n",
    "# 使用示例\n",
    "data_dir = 'data/Carla_semantic/ori_data'\n",
    "label_dir = 'data/Carla_semantic/ori_label'\n",
    "output_dir = 'data/Carla_semantic/split_data'\n",
    "split_dataset(data_dir, label_dir, output_dir)"
   ]
  },
  {
   "cell_type": "code",
   "execution_count": null,
   "metadata": {},
   "outputs": [],
   "source": [
    "import json\n",
    "\n",
    "# 读取palette.json文件\n",
    "with open('data/Carla_semantic/palette.json', 'r') as file:\n",
    "    palette = json.load(file)\n",
    "\n",
    "# 将所有像素值合成到一个列表中\n",
    "pixel_values = []\n",
    "for key, value in palette.items():\n",
    "    pixel_values.append(tuple(value))\n",
    "\n",
    "pixel_values"
   ]
  },
  {
   "cell_type": "code",
   "execution_count": 4,
   "metadata": {},
   "outputs": [
    {
     "data": {
      "text/plain": [
       "['Unlabeled',\n",
       " 'Roads',\n",
       " 'SideWalks',\n",
       " 'Building',\n",
       " 'Wall',\n",
       " 'Fence',\n",
       " 'Pole',\n",
       " 'TrafficLight',\n",
       " 'TrafficSign',\n",
       " 'Vegetation',\n",
       " 'Terrain',\n",
       " 'Sky',\n",
       " 'Pedestrian',\n",
       " 'Rider',\n",
       " 'Car',\n",
       " 'Truck',\n",
       " 'Bus',\n",
       " 'Train',\n",
       " 'Motorcycle',\n",
       " 'Bicycle',\n",
       " 'Static',\n",
       " 'Dynamic',\n",
       " 'Other',\n",
       " 'Water',\n",
       " 'RoadLine',\n",
       " 'Ground',\n",
       " 'Bridge',\n",
       " 'RailTrack',\n",
       " 'GuardRail']"
      ]
     },
     "execution_count": 4,
     "metadata": {},
     "output_type": "execute_result"
    }
   ],
   "source": [
    "import json\n",
    "\n",
    "# 读取palette.json文件\n",
    "with open('data/Carla_semantic/class.json', 'r') as file:\n",
    "    palette = json.load(file)\n",
    "\n",
    "# 将所有像素值合成到一个列表中\n",
    "pixel_values = []\n",
    "for key, value in palette.items():\n",
    "    pixel_values.append(key)\n",
    "\n",
    "pixel_values"
   ]
  }
 ],
 "metadata": {
  "kernelspec": {
   "display_name": "segmentation",
   "language": "python",
   "name": "python3"
  },
  "language_info": {
   "codemirror_mode": {
    "name": "ipython",
    "version": 3
   },
   "file_extension": ".py",
   "mimetype": "text/x-python",
   "name": "python",
   "nbconvert_exporter": "python",
   "pygments_lexer": "ipython3",
   "version": "3.8.20"
  }
 },
 "nbformat": 4,
 "nbformat_minor": 2
}
